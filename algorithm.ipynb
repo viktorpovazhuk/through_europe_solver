{
 "cells": [
  {
   "cell_type": "code",
   "execution_count": 37,
   "metadata": {},
   "outputs": [],
   "source": [
    "import scipy.sparse.csgraph as csg\n",
    "import pprint\n",
    "import pandas as pd\n",
    "import numpy as np\n",
    "from itertools import permutations\n",
    "import cv2\n",
    "import matplotlib.pyplot as plt\n",
    "from tqdm import tqdm"
   ]
  },
  {
   "cell_type": "code",
   "execution_count": 17,
   "metadata": {},
   "outputs": [],
   "source": [
    "transitions_df = pd.read_csv('transitions_table.csv')\n",
    "movements_df = pd.read_csv('movements_table.csv')"
   ]
  },
  {
   "cell_type": "code",
   "execution_count": 20,
   "metadata": {},
   "outputs": [],
   "source": [
    "countries = list(transitions_df['from'].unique())"
   ]
  },
  {
   "cell_type": "code",
   "execution_count": 21,
   "metadata": {},
   "outputs": [
    {
     "name": "stdout",
     "output_type": "stream",
     "text": [
      "Correspondance\n",
      "[(0, 'Санкт-Петербург'),\n",
      " (1, 'Рига'),\n",
      " (2, 'Москва'),\n",
      " (3, 'Стокгольм'),\n",
      " (4, 'Хельсінкі'),\n",
      " (5, 'Осло'),\n",
      " (6, 'Франкфурт'),\n",
      " (7, 'Прага'),\n",
      " (8, 'Берлін'),\n",
      " (9, 'Гамбург'),\n",
      " (10, 'Копенгаген'),\n",
      " (11, 'Гданськ'),\n",
      " (12, 'Лондон'),\n",
      " (13, 'Дублін'),\n",
      " (14, 'Мадрид'),\n",
      " (15, 'Порту'),\n",
      " (16, 'Нант'),\n",
      " (17, 'Лісабон'),\n",
      " (18, 'Стамбул'),\n",
      " (19, 'Афіни'),\n",
      " (20, 'Софія'),\n",
      " (21, 'Бухарест'),\n",
      " (22, 'Анкара'),\n",
      " (23, 'Палермо'),\n",
      " (24, 'Венеція'),\n",
      " (25, 'Белград'),\n",
      " (26, 'Мюнхен'),\n",
      " (27, 'Будапешт'),\n",
      " (28, 'Берн'),\n",
      " (29, 'Відень'),\n",
      " (30, 'Київ'),\n",
      " (31, 'Мінськ'),\n",
      " (32, 'Львів'),\n",
      " (33, 'Варшава'),\n",
      " (34, 'Севастополь'),\n",
      " (35, 'Кишинів'),\n",
      " (36, 'Брюссель'),\n",
      " (37, 'Барселона'),\n",
      " (38, 'Марсель'),\n",
      " (39, 'Амстердам'),\n",
      " (40, 'Париж'),\n",
      " (41, 'Рим')]\n"
     ]
    }
   ],
   "source": [
    "country_idx = {country: i for i, country in enumerate(countries)}\n",
    "\n",
    "print('Correspondance')\n",
    "pprint.PrettyPrinter(width=30).pprint(list(enumerate(countries)))"
   ]
  },
  {
   "cell_type": "code",
   "execution_count": 22,
   "metadata": {},
   "outputs": [],
   "source": [
    "for col in ['from', 'to']:\n",
    "    transitions_df[col] = transitions_df[col].map(lambda x: country_idx[x])\n",
    "    movements_df[col] = movements_df[col].map(lambda x: country_idx[x])"
   ]
  },
  {
   "cell_type": "code",
   "execution_count": 23,
   "metadata": {},
   "outputs": [
    {
     "data": {
      "text/html": [
       "<div>\n",
       "<style scoped>\n",
       "    .dataframe tbody tr th:only-of-type {\n",
       "        vertical-align: middle;\n",
       "    }\n",
       "\n",
       "    .dataframe tbody tr th {\n",
       "        vertical-align: top;\n",
       "    }\n",
       "\n",
       "    .dataframe thead th {\n",
       "        text-align: right;\n",
       "    }\n",
       "</style>\n",
       "<table border=\"1\" class=\"dataframe\">\n",
       "  <thead>\n",
       "    <tr style=\"text-align: right;\">\n",
       "      <th></th>\n",
       "      <th>from</th>\n",
       "      <th>to</th>\n",
       "    </tr>\n",
       "  </thead>\n",
       "  <tbody>\n",
       "    <tr>\n",
       "      <th>0</th>\n",
       "      <td>0</td>\n",
       "      <td>6</td>\n",
       "    </tr>\n",
       "    <tr>\n",
       "      <th>1</th>\n",
       "      <td>1</td>\n",
       "      <td>13</td>\n",
       "    </tr>\n",
       "    <tr>\n",
       "      <th>2</th>\n",
       "      <td>2</td>\n",
       "      <td>41</td>\n",
       "    </tr>\n",
       "    <tr>\n",
       "      <th>3</th>\n",
       "      <td>3</td>\n",
       "      <td>21</td>\n",
       "    </tr>\n",
       "    <tr>\n",
       "      <th>4</th>\n",
       "      <td>4</td>\n",
       "      <td>33</td>\n",
       "    </tr>\n",
       "  </tbody>\n",
       "</table>\n",
       "</div>"
      ],
      "text/plain": [
       "   from  to\n",
       "0     0   6\n",
       "1     1  13\n",
       "2     2  41\n",
       "3     3  21\n",
       "4     4  33"
      ]
     },
     "metadata": {},
     "output_type": "display_data"
    },
    {
     "data": {
      "text/html": [
       "<div>\n",
       "<style scoped>\n",
       "    .dataframe tbody tr th:only-of-type {\n",
       "        vertical-align: middle;\n",
       "    }\n",
       "\n",
       "    .dataframe tbody tr th {\n",
       "        vertical-align: top;\n",
       "    }\n",
       "\n",
       "    .dataframe thead th {\n",
       "        text-align: right;\n",
       "    }\n",
       "</style>\n",
       "<table border=\"1\" class=\"dataframe\">\n",
       "  <thead>\n",
       "    <tr style=\"text-align: right;\">\n",
       "      <th></th>\n",
       "      <th>from</th>\n",
       "      <th>to</th>\n",
       "      <th>steps</th>\n",
       "    </tr>\n",
       "  </thead>\n",
       "  <tbody>\n",
       "    <tr>\n",
       "      <th>0</th>\n",
       "      <td>5</td>\n",
       "      <td>3</td>\n",
       "      <td>3</td>\n",
       "    </tr>\n",
       "    <tr>\n",
       "      <th>1</th>\n",
       "      <td>5</td>\n",
       "      <td>10</td>\n",
       "      <td>4</td>\n",
       "    </tr>\n",
       "    <tr>\n",
       "      <th>2</th>\n",
       "      <td>3</td>\n",
       "      <td>10</td>\n",
       "      <td>4</td>\n",
       "    </tr>\n",
       "    <tr>\n",
       "      <th>3</th>\n",
       "      <td>3</td>\n",
       "      <td>11</td>\n",
       "      <td>4</td>\n",
       "    </tr>\n",
       "    <tr>\n",
       "      <th>4</th>\n",
       "      <td>3</td>\n",
       "      <td>4</td>\n",
       "      <td>3</td>\n",
       "    </tr>\n",
       "  </tbody>\n",
       "</table>\n",
       "</div>"
      ],
      "text/plain": [
       "   from  to  steps\n",
       "0     5   3      3\n",
       "1     5  10      4\n",
       "2     3  10      4\n",
       "3     3  11      4\n",
       "4     3   4      3"
      ]
     },
     "metadata": {},
     "output_type": "display_data"
    }
   ],
   "source": [
    "display(transitions_df[:5])\n",
    "display(movements_df[:5])"
   ]
  },
  {
   "cell_type": "code",
   "execution_count": 24,
   "metadata": {},
   "outputs": [],
   "source": [
    "transitions_df = transitions_df.to_numpy()\n",
    "movements_df = movements_df.to_numpy()"
   ]
  },
  {
   "cell_type": "code",
   "execution_count": 26,
   "metadata": {},
   "outputs": [],
   "source": [
    "N = len(countries)\n",
    "g_dense = np.zeros((N, N))"
   ]
  },
  {
   "cell_type": "code",
   "execution_count": 27,
   "metadata": {},
   "outputs": [],
   "source": [
    "for k in range(movements_df.shape[0]):\n",
    "    k, j, steps = movements_df[k]\n",
    "    g_dense[k, j] = steps\n",
    "    g_dense[j, k] = steps\n",
    "\n",
    "for k in range(transitions_df.shape[0]):\n",
    "    k, j = transitions_df[k]\n",
    "    g_dense[k, j] = 1"
   ]
  },
  {
   "cell_type": "code",
   "execution_count": 29,
   "metadata": {},
   "outputs": [
    {
     "data": {
      "text/plain": [
       "array([[0., 4., 4., 0., 3., 0., 1., 0., 0., 0., 0., 0., 0., 0., 0., 0.,\n",
       "        0., 0., 0., 0., 0., 0., 0., 0., 0., 0., 0., 0., 0., 0., 0., 0.,\n",
       "        0., 0., 0., 0., 0., 0., 0., 0., 0., 0.],\n",
       "       [4., 0., 0., 0., 3., 0., 0., 0., 0., 0., 0., 4., 0., 1., 0., 0.,\n",
       "        0., 0., 0., 0., 0., 0., 0., 0., 0., 0., 0., 0., 0., 0., 0., 3.,\n",
       "        0., 0., 0., 0., 0., 0., 0., 0., 0., 0.]])"
      ]
     },
     "execution_count": 29,
     "metadata": {},
     "output_type": "execute_result"
    }
   ],
   "source": [
    "g_dense[:2]"
   ]
  },
  {
   "cell_type": "code",
   "execution_count": 30,
   "metadata": {},
   "outputs": [],
   "source": [
    "g_sparse = csg.csgraph_from_dense(g_dense, null_value=0)"
   ]
  },
  {
   "cell_type": "code",
   "execution_count": 32,
   "metadata": {},
   "outputs": [
    {
     "data": {
      "text/plain": [
       "array([4., 4., 3., 1., 4.])"
      ]
     },
     "execution_count": 32,
     "metadata": {},
     "output_type": "execute_result"
    }
   ],
   "source": [
    "g_sparse.data[:5]"
   ]
  },
  {
   "cell_type": "code",
   "execution_count": 33,
   "metadata": {},
   "outputs": [],
   "source": [
    "dist_matrix, preds = csg.floyd_warshall(g_sparse, directed=True, return_predecessors=True)"
   ]
  },
  {
   "cell_type": "code",
   "execution_count": 35,
   "metadata": {},
   "outputs": [
    {
     "data": {
      "text/plain": [
       "array([[0., 4., 4., 6., 3., 8., 1., 4., 6., 4., 6., 6., 7., 5., 2., 4.,\n",
       "        8., 5., 6., 8., 6., 7., 5., 7., 5., 6., 3., 8., 5., 6., 7., 6.,\n",
       "        7., 4., 7., 4., 4., 5., 5., 3., 6., 5.],\n",
       "       [4., 0., 6., 6., 3., 5., 5., 5., 2., 4., 6., 4., 4., 1., 6., 7.,\n",
       "        6., 8., 9., 6., 6., 7., 8., 5., 5., 8., 6., 6., 8., 4., 6., 3.,\n",
       "        7., 4., 5., 8., 7., 3., 5., 7., 7., 7.]])"
      ]
     },
     "execution_count": 35,
     "metadata": {},
     "output_type": "execute_result"
    }
   ],
   "source": [
    "dist_matrix[:2]"
   ]
  },
  {
   "cell_type": "code",
   "execution_count": 36,
   "metadata": {},
   "outputs": [],
   "source": [
    "mustpass = ['Франкфурт', 'Рига', 'Лондон', 'Софія', 'Київ', 'Марсель']\n",
    "mustpass_idx = [country_idx[c] for c in mustpass]"
   ]
  },
  {
   "cell_type": "code",
   "execution_count": 38,
   "metadata": {},
   "outputs": [
    {
     "name": "stderr",
     "output_type": "stream",
     "text": [
      "720it [00:00, 286599.50it/s]\n"
     ]
    }
   ],
   "source": [
    "K = len(mustpass_idx)\n",
    "min_dist = np.inf\n",
    "min_path = None\n",
    "for perm in tqdm(permutations(mustpass_idx)):\n",
    "    dist = 0\n",
    "    for k in range(K-1):\n",
    "        i, j = perm[k:k+2]\n",
    "        dist += dist_matrix[i, j]\n",
    "    if dist < min_dist:\n",
    "        min_dist = dist\n",
    "        min_path = perm"
   ]
  },
  {
   "cell_type": "code",
   "execution_count": 41,
   "metadata": {},
   "outputs": [],
   "source": [
    "def reconstruct_path(partial_path):\n",
    "    path = []\n",
    "    for i in range(len(partial_path) - 1):\n",
    "        u, v = partial_path[i], partial_path[i+1]\n",
    "        segm = []\n",
    "        while u != v:\n",
    "            v = preds[u, v]\n",
    "            segm.append(v)\n",
    "        segm.reverse()\n",
    "        path = path + segm\n",
    "    path.append(partial_path[-1])\n",
    "    return path"
   ]
  },
  {
   "cell_type": "code",
   "execution_count": 42,
   "metadata": {},
   "outputs": [],
   "source": [
    "rec_path = reconstruct_path(min_path)"
   ]
  },
  {
   "cell_type": "code",
   "execution_count": 43,
   "metadata": {},
   "outputs": [
    {
     "name": "stdout",
     "output_type": "stream",
     "text": [
      "15.0\n",
      "['Київ', 'Санкт-Петербург', 'Франкфурт', 'Мюнхен', 'Берн', 'Стамбул', 'Рига', 'Хельсінкі', 'Варшава', 'Марсель', 'Софія', 'Лондон']\n"
     ]
    }
   ],
   "source": [
    "rec_path_str = [countries[i] for i in rec_path]\n",
    "\n",
    "print(min_dist)\n",
    "print(rec_path_str)"
   ]
  },
  {
   "cell_type": "code",
   "execution_count": null,
   "metadata": {},
   "outputs": [],
   "source": []
  }
 ],
 "metadata": {
  "kernelspec": {
   "display_name": "Python 3",
   "language": "python",
   "name": "python3"
  },
  "language_info": {
   "codemirror_mode": {
    "name": "ipython",
    "version": 3
   },
   "file_extension": ".py",
   "mimetype": "text/x-python",
   "name": "python",
   "nbconvert_exporter": "python",
   "pygments_lexer": "ipython3",
   "version": "3.10.6"
  },
  "orig_nbformat": 4
 },
 "nbformat": 4,
 "nbformat_minor": 2
}
